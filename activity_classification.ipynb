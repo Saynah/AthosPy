{
 "metadata": {
  "name": "",
  "signature": "sha256:1a1ec98b6dc04f45fcf462c5a4a19ebf2d41c59c20f4028cfaa27b49b1ba80d0"
 },
 "nbformat": 3,
 "nbformat_minor": 0,
 "worksheets": [
  {
   "cells": [
    {
     "cell_type": "heading",
     "level": 1,
     "metadata": {},
     "source": [
      "Classification of physical activities using Athos EMG-sensor garments"
     ]
    },
    {
     "cell_type": "code",
     "collapsed": false,
     "input": [
      "from IPython.display import HTML\n",
      "HTML('athospy/show_hide_code.html')"
     ],
     "language": "python",
     "metadata": {},
     "outputs": [
      {
       "html": [
        "<script>\n",
        "code_show=true; \n",
        "\n",
        "$('div.prompt').hide();\n",
        "\n",
        "function code_toggle() {\n",
        " \tif (code_show){\n",
        " \t\t$('div.input').hide();\n",
        " \t} else {\n",
        " \t\t$('div.input').show();\n",
        " \t}\n",
        " \tcode_show = !code_show\n",
        "} \n",
        "\n",
        "$( document ).ready(code_toggle);\n",
        "</script>\n",
        "\n",
        "<a href=\"javascript:code_toggle()\">Click here</a> to toggle the display of code.\n"
       ],
       "metadata": {},
       "output_type": "pyout",
       "prompt_number": 16,
       "text": [
        "<IPython.core.display.HTML at 0x111abc190>"
       ]
      }
     ],
     "prompt_number": 16
    },
    {
     "cell_type": "markdown",
     "metadata": {},
     "source": [
      "<!-- Abstract / executive summary here -->\n",
      "<!-- background -->\n",
      "\n",
      "*\n",
      "The abilty to quantify an individual's level of physical activity is a major challenge in personal health and fitness.\n",
      "  Although heartrate monitors and step counters have exsited for decades, devices [and data systems] for measuring how well a patient's or athlete's muscles and joints function [have been lacking].  \n",
      "...  \n",
      "Athos, is making a significant step towards [a solution to this problem]\n",
      "A key challenge in the [area] physical health, wellness, and fitness is being able to quantitatively  \n",
      "...  \n",
      "Non-linear, multivariate time series analysis in both the time and frequency domains.\n",
      "...can be applied to other data problems involving time series, related to clustering, classification, forecasting, and anomaly detection.\n",
      "*\n",
      "\n",
      "- background (include product relevance)\n",
      "- objectives\n",
      "- results\n",
      "- discussion\n",
      "\n",
      "<!-- other introductory remarks -->\n",
      "\n",
      "A major component of data science is asking the right questions (especially \"Why?\").\n",
      "See [Mark's question list (link)]() to get a glimpse of the kind of questions I asked while working on this awesome project.\n",
      "\n",
      "First, we'll [clean up the raw data](#Data-preparation) and parse out any useful metadata from file names, folder names, and `README` contents.\n",
      "Than, we'll do some [exploratory analysis](#Exploratory-analysis) to identify some quantitative features of the data we can use to explain differences in muscle activity between different exercises and people.\n",
      "After that, we'll develop a [[statistical model]](#Model-development) model that classifies physical activities.\n",
      "Finally we'll [test and validate that model](#Testing-and-validation) and compare its performane to the state of the art."
     ]
    },
    {
     "cell_type": "heading",
     "level": 3,
     "metadata": {},
     "source": [
      "Data preparation"
     ]
    },
    {
     "cell_type": "markdown",
     "metadata": {},
     "source": [
      "The first step in executing a data science project (after obtaining the data, of course) is \"data cleaning\".\n",
      "\n",
      "* parse out labels (person, exercise, leg side, other...) from data folders and CSV files\n",
      "* identify experiment files with potentially corrupt data\n",
      "* summarize the dataset\n",
      "* select portions of the data for training/testing/validation"
     ]
    },
    {
     "cell_type": "code",
     "collapsed": false,
     "input": [
      "# "
     ],
     "language": "python",
     "metadata": {},
     "outputs": []
    },
    {
     "cell_type": "heading",
     "level": 3,
     "metadata": {},
     "source": [
      "Exploratory analysis"
     ]
    },
    {
     "cell_type": "markdown",
     "metadata": {},
     "source": [
      "After 'cleaning' the dataset and making sure that we understand the meaning of all the variables and labels, we can start some exploratory data analysis.\n",
      "\n",
      "* selecting features to characterize the EMG signals\n",
      "* distribution of features, and normalization/transformation if needed\n",
      "* relationships between features\n",
      "* dimensionality reduction / feature selection"
     ]
    },
    {
     "cell_type": "heading",
     "level": 3,
     "metadata": {},
     "source": [
      "Model development"
     ]
    },
    {
     "cell_type": "markdown",
     "metadata": {},
     "source": [
      "Now that we've selected some features that seem to characterize the data, we can use them as inputs to a statistical model, that [...]\n",
      "\n",
      "* trying out a couple models on a small-to-medium size dataset\n",
      "* rationale for choosing a model"
     ]
    },
    {
     "cell_type": "heading",
     "level": 3,
     "metadata": {},
     "source": [
      "Testing and validation"
     ]
    },
    {
     "cell_type": "markdown",
     "metadata": {},
     "source": [
      "Great, we've got a model that does a fairly good job of predicting the kind of activity an individual is doing.\n",
      "Now we can try to optimize model performance and finally validate it on an unseen dataset."
     ]
    },
    {
     "cell_type": "heading",
     "level": 5,
     "metadata": {},
     "source": [
      "Measuring and optimizing performance of the model"
     ]
    },
    {
     "cell_type": "markdown",
     "metadata": {},
     "source": [
      "* optimizing model parameters (improvement in results)\n",
      "* data cleaning\n",
      "* adding R/L labels\n",
      "* changing window length"
     ]
    },
    {
     "cell_type": "heading",
     "level": 5,
     "metadata": {},
     "source": [
      "applying the model to an unseen dataset"
     ]
    },
    {
     "cell_type": "markdown",
     "metadata": {},
     "source": [
      "* leave-one-out validation?\n",
      "* other cross validation methods?"
     ]
    },
    {
     "cell_type": "heading",
     "level": 3,
     "metadata": {},
     "source": [
      "Next steps and future work"
     ]
    },
    {
     "cell_type": "markdown",
     "metadata": {},
     "source": [
      "OK, in this post we've gone through the whole pipeline of a prototypical data science project, from data cleaning to validation of a predictive model--but there's always more work to be done!\n",
      "Below are some potential areas of improvement, along with some preliminary results that can help us gauge their value.\n",
      "\n",
      "<!-- improvements -->\n",
      "\n",
      "* Did cleaning the data improve the results? How do we automate or fix this for future datasets?\n",
      "* Could accelerometer data improve activity classification?\n",
      "* How can activity classification benefit users? What other DataSci techniques could provide value?\n",
      "* increasing the number of activities?"
     ]
    }
   ],
   "metadata": {}
  }
 ]
}