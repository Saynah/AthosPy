{
 "metadata": {
  "name": "",
  "signature": "sha256:2a42f63b16d7be745bbc10e1955d9daceafe14a39509dc419bb4a0a91bd2b601"
 },
 "nbformat": 3,
 "nbformat_minor": 0,
 "worksheets": [
  {
   "cells": [
    {
     "cell_type": "markdown",
     "metadata": {},
     "source": [
      "# Characterize the data, starting with a single individual\n",
      "Now that we know what constitutes good and bad data files we can select a nice subset of the data for training and testing. Before developing a classification algorithm to work across the whole dataset, we'll first train and test a classifier on one individual.\n",
      "\n",
      "Here we characterize different exercises for a single individual and start to build features that help distinguish between the different exercises."
     ]
    },
    {
     "cell_type": "code",
     "collapsed": false,
     "input": [
      "# clear vars\n",
      "%reset -f\n",
      "\n",
      "# show plots in the notebook\n",
      "%matplotlib inline\n",
      "\n",
      "# reload modules automatically\n",
      "%load_ext autoreload\n",
      "%autoreload 2"
     ],
     "language": "python",
     "metadata": {},
     "outputs": [
      {
       "output_type": "stream",
       "stream": "stdout",
       "text": [
        "The autoreload extension is already loaded. To reload it, use:\n",
        "  %reload_ext autoreload\n"
       ]
      }
     ],
     "prompt_number": 77
    },
    {
     "cell_type": "code",
     "collapsed": false,
     "input": [
      "import os              # directory walking \n",
      "import pandas as pd    # data manipulation\n",
      "\n",
      "from athospy.plt_config import mpl_plt\n",
      "mpl, plt = mpl_plt()   # for some reason, importing as a script doesn't work\n",
      "\n",
      "import athospy.file_ops as fo\n",
      "\n",
      "DATA_DIR = '../data/cleaned/anonymized/'\n",
      "CHAR_FIGS_DIR = '../data/results/figs/characterize'\n",
      "try:\n",
      "    os.mkdir(CHAR_FIGS_DIR)\n",
      "except:\n",
      "    print('already exists') # TODO: use except properly"
     ],
     "language": "python",
     "metadata": {},
     "outputs": [
      {
       "output_type": "stream",
       "stream": "stdout",
       "text": [
        "already exists\n"
       ]
      }
     ],
     "prompt_number": 78
    },
    {
     "cell_type": "markdown",
     "metadata": {},
     "source": [
      "## Label data by exercise"
     ]
    },
    {
     "cell_type": "code",
     "collapsed": false,
     "input": [
      "PERSON_DIR = '../data/Research-Sessions/Chris_Wiebe_Calibration_Trial_Fitness4_Push4/'\n",
      "\n",
      "df_files "
     ],
     "language": "python",
     "metadata": {},
     "outputs": [],
     "prompt_number": 63
    },
    {
     "cell_type": "code",
     "collapsed": false,
     "input": [
      "import json\n",
      "\n",
      "with open(\"config/exercise-list_map.json\") as json_file:\n",
      "    json_data = json.load(json_file)\n",
      "\n",
      "json_data\n",
      "print json_data['Squat']"
     ],
     "language": "python",
     "metadata": {},
     "outputs": [
      {
       "output_type": "stream",
       "stream": "stdout",
       "text": [
        "blah\n"
       ]
      }
     ],
     "prompt_number": 84
    },
    {
     "cell_type": "code",
     "collapsed": false,
     "input": [
      "'../data/cleaned/person_dirs.json'"
     ],
     "language": "python",
     "metadata": {},
     "outputs": [
      {
       "output_type": "stream",
       "stream": "stdout",
       "text": [
        "Object `with` not found.\n"
       ]
      }
     ],
     "prompt_number": 67
    },
    {
     "cell_type": "code",
     "collapsed": false,
     "input": [
      "fp = 'config/exercise-list_map.json'\n",
      "fp.replace"
     ],
     "language": "python",
     "metadata": {},
     "outputs": [],
     "prompt_number": 55
    },
    {
     "cell_type": "markdown",
     "metadata": {},
     "source": [
      "## Exclude .csv files with weird stats"
     ]
    },
    {
     "cell_type": "markdown",
     "metadata": {},
     "source": [
      "## Select 10 sec chunks from the middle of each file"
     ]
    },
    {
     "cell_type": "markdown",
     "metadata": {},
     "source": [
      "## Apply data transformations\n",
      "* rolling average or max\n",
      "* principle components\n",
      "* signal to the n-th power\n",
      "* signal relative to net\n",
      "* net left and right side (bad idea to use linear combinations?)"
     ]
    },
    {
     "cell_type": "markdown",
     "metadata": {},
     "source": [
      "## Create features\n",
      "* phase delay across channels\n",
      "* mean peak values\n",
      "* mean frequency"
     ]
    },
    {
     "cell_type": "markdown",
     "metadata": {},
     "source": [
      "## Scatter plots, grouped by activity\n",
      "(could use brush-tip mpld3 example)"
     ]
    },
    {
     "cell_type": "markdown",
     "metadata": {},
     "source": []
    },
    {
     "cell_type": "markdown",
     "metadata": {},
     "source": []
    },
    {
     "cell_type": "markdown",
     "metadata": {},
     "source": []
    },
    {
     "cell_type": "markdown",
     "metadata": {},
     "source": []
    }
   ],
   "metadata": {}
  }
 ]
}