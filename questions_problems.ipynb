{
 "metadata": {
  "name": "",
  "signature": "sha256:fe674d6c6ff69376c7e723ac9acb5eb7cded0eb1f91e2614080fb2c28f1ba135"
 },
 "nbformat": 3,
 "nbformat_minor": 0,
 "worksheets": [
  {
   "cells": [
    {
     "cell_type": "markdown",
     "metadata": {},
     "source": [
      "# Questions to answer and problems to solve for the activity-classification task"
     ]
    },
    {
     "cell_type": "markdown",
     "metadata": {},
     "source": [
      "## What data should be included / excluded?"
     ]
    },
    {
     "cell_type": "markdown",
     "metadata": {},
     "source": [
      "## Should the accelerometer data be used to help classify activities?"
     ]
    },
    {
     "cell_type": "markdown",
     "metadata": {},
     "source": [
      "## What are some important features of the EMG data?"
     ]
    },
    {
     "cell_type": "markdown",
     "metadata": {},
     "source": [
      "## Do transformations of the EMG data improve feature quality?"
     ]
    },
    {
     "cell_type": "markdown",
     "metadata": {},
     "source": [
      "## Which features of the data vary the most between activities?"
     ]
    },
    {
     "cell_type": "markdown",
     "metadata": {},
     "source": [
      "## Which features vary the most between individuals?"
     ]
    },
    {
     "cell_type": "markdown",
     "metadata": {},
     "source": [
      "## Are there natural clusters in the data?"
     ]
    },
    {
     "cell_type": "markdown",
     "metadata": {},
     "source": [
      "## How well can Machine Learning classify activities within individuals?"
     ]
    },
    {
     "cell_type": "markdown",
     "metadata": {},
     "source": [
      "## How well can Machine Learning classify activities across all individuals?"
     ]
    }
   ],
   "metadata": {}
  }
 ]
}