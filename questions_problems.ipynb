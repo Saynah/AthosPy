{
 "metadata": {
  "name": "",
  "signature": "sha256:687c6a421d00209b63db379db825ea5e01b61ced090ccc1551b8dc2c0745e412"
 },
 "nbformat": 3,
 "nbformat_minor": 0,
 "worksheets": [
  {
   "cells": [
    {
     "cell_type": "markdown",
     "metadata": {},
     "source": [
      "# Questions to answer and problems to solve for the activity-classification task"
     ]
    },
    {
     "cell_type": "markdown",
     "metadata": {},
     "source": [
      "## What labels are there for the data are available and what do they mean?\n",
      "(Besides person and exercise:)  \n",
      "Leg side (L/R)?  \n",
      "Trials?  \n",
      "Fitness?  \n",
      "Push?  \n",
      "Numerical suffixes (for weight/intensity?)?  \n",
      "README metadata?"
     ]
    },
    {
     "cell_type": "markdown",
     "metadata": {},
     "source": [
      "## What data should be excluded?\n",
      "Which persons should be excluded?  \n",
      "Which CSV files should be excluded?  \n",
      "Which rows should be excluded?  "
     ]
    },
    {
     "cell_type": "markdown",
     "metadata": {},
     "source": [
      "## How should data be split for training, testing, and validation?\n",
      "Can individual trials be split by time?  \n",
      "Do overrepresented exercises skew recognition accuracy results? (should I use the distribution as a prior?)"
     ]
    },
    {
     "cell_type": "markdown",
     "metadata": {},
     "source": [
      "## Should the accelerometer data be used to help classify activities?\n",
      "Can accelerometer data be reliably synchronized with EMG data?  \n",
      "Can acclerometer data alone distinguish between activities?  \n",
      "Does acclerometer data help determine frequency or detect motions?  "
     ]
    },
    {
     "cell_type": "markdown",
     "metadata": {},
     "source": [
      "## What are some important features of the EMG data?\n",
      "Mean, median, max values?  \n",
      "Frequency for periodic motions?  \n",
      "Phase shift between channels?  \n",
      "Duty cycle for each channel?  "
     ]
    },
    {
     "cell_type": "markdown",
     "metadata": {},
     "source": [
      "## Do transformations of the EMG data improve feature quality?\n",
      "Rolling average?  \n",
      "Rolling maximum?  \n",
      "Net left/right leg activity?  \n",
      "Normalization by total muscle activity?  \n",
      "Normaliation by the variance (is that constant?)?  \n",
      "Gamma function to increase the signal to noise ratio?\n",
      "Principle Component Analysis to maximize variance?"
     ]
    },
    {
     "cell_type": "markdown",
     "metadata": {},
     "source": [
      "## How do features vary across people, activities, and other labels?\n",
      "Which features of the data vary the most between activities, within individuals?  \n",
      "Which features vary between trials (on separate days), within individuals?  \n",
      "Which features vary the most between individuals?"
     ]
    },
    {
     "cell_type": "markdown",
     "metadata": {},
     "source": [
      "## Are there natural clusters in the data?\n",
      "Does hierarchical or k-means classification produce distinct clusters?  \n",
      "What features are the most imporant for clustering?"
     ]
    },
    {
     "cell_type": "markdown",
     "metadata": {},
     "source": [
      "## How well can Machine Learning classify activities?\n",
      "What multi-class metrics are best at quanntifying performance?  \n",
      "Within individuals?  \n",
      "Across all individuals?"
     ]
    }
   ],
   "metadata": {}
  }
 ]
}